{
  "cells": [
    {
      "cell_type": "code",
      "execution_count": null,
      "metadata": {
        "id": "0R85HhODA56_",
        "pycharm": {
          "is_executing": true
        }
      },
      "outputs": [],
      "source": [
        "import pandas as pd\n",
        "import csv\n",
        "import time\n",
        "from sklearn.ensemble import IsolationForest"
      ]
    },
    {
      "cell_type": "code",
      "execution_count": null,
      "metadata": {
        "id": "KzvRlzr6A57C",
        "outputId": "739c4fcd-f1df-47d4-ce1d-e56a267d0a02"
      },
      "outputs": [
        {
          "name": "stdout",
          "output_type": "stream",
          "text": [
            "Data loaded: 56.45 s.\n"
          ]
        }
      ],
      "source": [
        "t = time.time()\n",
        "ls_ = list(csv.reader(open('Final/[KNN]reference_indexes.csv', newline='')))\n",
        "ls_learn = [int(x[0]) for x in ls_[1:]]\n",
        "\n",
        "df = pd.read_csv(\"final_dataset.csv\")\n",
        "df.drop(columns=['Unnamed: 0'], inplace=True)  \n",
        "\n",
        "train_data = df.iloc[ls_learn,:]\n",
        "test_data = df[~df.isin(train_data)].dropna(how = 'all')\n",
        "del df, ls_\n",
        "\n",
        "print(\"Data loaded: %0.2f s.\" % (time.time() - t))"
      ]
    },
    {
      "cell_type": "code",
      "execution_count": null,
      "metadata": {
        "id": "orCb8wLAA57D",
        "outputId": "9ca44c67-1f95-435b-8993-97543affb0a0",
        "pycharm": {
          "name": "#%%\n"
        }
      },
      "outputs": [
        {
          "name": "stdout",
          "output_type": "stream",
          "text": [
            "Fitting done: 16.57 s.\n"
          ]
        }
      ],
      "source": [
        "t = time.time()\n",
        "clf = IsolationForest(random_state=0, contamination=0.005).fit(train_data)\n",
        "print(\"Fitting done: %0.2f s.\" % (time.time() - t))"
      ]
    },
    {
      "cell_type": "code",
      "execution_count": null,
      "metadata": {
        "id": "z616adC0A57E",
        "outputId": "f5bba147-de97-45e1-a7db-b48d644ea689",
        "pycharm": {
          "name": "#%%\n"
        }
      },
      "outputs": [
        {
          "name": "stdout",
          "output_type": "stream",
          "text": [
            "Fitting done: 61.84 ns.\n"
          ]
        }
      ],
      "source": [
        "t = time.time()\n",
        "res_ = clf.predict(test_data)\n",
        "ahh = (time.time() - t)*1_000_000/test_data.shape[0]\n",
        "print(\"Fitting done: %0.2f ns.\" % ahh)"
      ]
    },
    {
      "cell_type": "code",
      "execution_count": null,
      "metadata": {
        "id": "39uhsWeLA57E",
        "pycharm": {
          "name": "#%%\n"
        }
      },
      "outputs": [],
      "source": [
        "test_data['Prediction'] = res_"
      ]
    },
    {
      "cell_type": "code",
      "execution_count": null,
      "metadata": {
        "id": "m6DLzRN5A57F",
        "outputId": "2cc71ab3-83b9-4957-c40a-7425b4fbd85f"
      },
      "outputs": [
        {
          "data": {
            "text/plain": [
              "Int64Index([   5974,    8204,    9329,   10366,   11143,   11561,   11915,\n",
              "              11916,   13337,   13338,\n",
              "            ...\n",
              "            3574064, 3574162, 3574507, 3574508, 3574509, 3574510, 3574713,\n",
              "            3575280, 3575282, 3575290],\n",
              "           dtype='int64', length=16574)"
            ]
          },
          "execution_count": 14,
          "metadata": {},
          "output_type": "execute_result"
        }
      ],
      "source": [
        "anomalous_indexes_if = test_data.loc[test_data['Prediction'] == -1].index\n",
        "anomalous_indexes_if"
      ]
    },
    {
      "cell_type": "code",
      "execution_count": null,
      "metadata": {
        "id": "qKvA6IDmA57F",
        "outputId": "0afb211d-ec0f-4532-fe71-a09258fbc033",
        "pycharm": {
          "name": "#%%\n"
        }
      },
      "outputs": [
        {
          "name": "stdout",
          "output_type": "stream",
          "text": [
            "KNN detected 21310 anomalies.\n",
            "Autoencoder detected 16637 anomalies.\n",
            "Isolation Forest detected 16574 anomalies.\n"
          ]
        }
      ],
      "source": [
        "import numpy as np\n",
        "ls_ = list(csv.reader(open('Final/[KNN]anonmalous_indexes.csv', newline='')))\n",
        "als_ = list(csv.reader(open('Final/[Autoencoder]anonmalous_indexes.csv', newline='')))\n",
        "\n",
        "knn_anom_indx = [int(x[0]) for x in ls_[1:]]\n",
        "autoencoders_anom_indx = [int(x[0]) for x in als_[1:]]\n",
        "iso_forest_anom_indx = anomalous_indexes_if\n",
        "\n",
        "print(f\"KNN detected {len(knn_anom_indx)} anomalies.\")\n",
        "print(f\"Autoencoder detected {len(autoencoders_anom_indx)} anomalies.\")\n",
        "print(f\"Isolation Forest detected {len(iso_forest_anom_indx)} anomalies.\")"
      ]
    },
    {
      "cell_type": "markdown",
      "metadata": {
        "id": "eiu6qKhlA57G"
      },
      "source": [
        "# Comparison of 3 approaches KNN, Autoencoders and Isolation Forest: \n",
        "For learning in all of the algorithms the same sub-set of data was used. \\\n",
        "Sum of detected anomalous samples from three models: `39604` ~ `1.5%` of the dataset. \\\n",
        "We can refine it even further and select samples all the models agreed upon: `516` sample ~ `0.02%`. \\\n"
      ]
    },
    {
      "cell_type": "code",
      "execution_count": null,
      "metadata": {
        "id": "3zRHZoxFA57H",
        "outputId": "7497fb69-aace-4e86-8da6-0839ab942d3d"
      },
      "outputs": [
        {
          "name": "stdout",
          "output_type": "stream",
          "text": [
            "KNN & Autoencoders: 3228 ~ 19.4% common anomalies.\n",
            "Autoencoder & Iso.Forest: 936 ~ 5.63% common anomalies.\n",
            "Iso.Forest & KNN: 2719 ~ 16.3% common anomalies.\n",
            "Iso.Forest & KNN & Autoencoders: 516 ~ 3.1% common anomalies.\n"
          ]
        }
      ],
      "source": [
        "knn_autoencoder = [x for x in knn_anom_indx if x in autoencoders_anom_indx]\n",
        "knn_iso_forest = [x for x in iso_forest_anom_indx if x in knn_anom_indx]\n",
        "autoencoder_iso_forest = [x for x in iso_forest_anom_indx if x in autoencoders_anom_indx]\n",
        "common = [x for x in knn_anom_indx if x in autoencoders_anom_indx and x in iso_forest_anom_indx]\n",
        "\n",
        "print(f\"KNN & Autoencoders: {len(knn_autoencoder)} ~ {len(knn_autoencoder)*100/len(autoencoders_anom_indx):{3}.{3}}% common anomalies.\")\n",
        "print(f\"Autoencoder & Iso.Forest: {len(autoencoder_iso_forest)} ~ {len(autoencoder_iso_forest)*100/len(autoencoders_anom_indx):{3}.{3}}% common anomalies.\")\n",
        "print(f\"Iso.Forest & KNN: {len(knn_iso_forest)} ~ {len(knn_iso_forest)*100/len(autoencoders_anom_indx):{3}.{3}}% common anomalies.\")\n",
        "print(f\"Iso.Forest & KNN & Autoencoders: {len(common)} ~ {len(common)*100/len(autoencoders_anom_indx):{3}.{3}}% common anomalies.\")"
      ]
    }
  ],
  "metadata": {
    "colab": {
      "name": "[IsoForest]ML_IsolationForest_and_Results.ipynb",
      "provenance": []
    },
    "kernelspec": {
      "display_name": "Python 3",
      "language": "python",
      "name": "python3"
    },
    "language_info": {
      "codemirror_mode": {
        "name": "ipython",
        "version": 3
      },
      "file_extension": ".py",
      "mimetype": "text/x-python",
      "name": "python",
      "nbconvert_exporter": "python",
      "pygments_lexer": "ipython3",
      "version": "3.9.1"
    },
    "pycharm": {
      "stem_cell": {
        "cell_type": "raw",
        "metadata": {
          "collapsed": false
        },
        "source": []
      }
    }
  },
  "nbformat": 4,
  "nbformat_minor": 0
}
