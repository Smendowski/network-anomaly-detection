{
 "cells": [
  {
   "cell_type": "code",
   "execution_count": 130,
   "metadata": {},
   "outputs": [
    {
     "name": "stdout",
     "output_type": "stream",
     "text": [
      "Loading time: 24.1662 seconds.\n"
     ]
    }
   ],
   "source": [
    "import time\n",
    "import pandas as pd\n",
    "import numpy as np\n",
    "\n",
    "start = time.perf_counter()\n",
    "df = pd.read_csv('./dataset.csv')\n",
    "stop = time.perf_counter()\n",
    "\n",
    "print(f\"Loading time: {stop - start:.4f} seconds.\")"
   ]
  },
  {
   "cell_type": "markdown",
   "metadata": {},
   "source": [
    "### 1. Remove unnecessary columns and columns with only one unique value"
   ]
  },
  {
   "cell_type": "code",
   "execution_count": 131,
   "metadata": {},
   "outputs": [],
   "source": [
    "single_unique_columns = [col for col in df.columns if df[col].nunique() == 1]"
   ]
  },
  {
   "cell_type": "code",
   "execution_count": 132,
   "metadata": {},
   "outputs": [
    {
     "data": {
      "text/plain": [
       "['Bwd.PSH.Flags',\n",
       " 'Fwd.URG.Flags',\n",
       " 'Bwd.URG.Flags',\n",
       " 'CWE.Flag.Count',\n",
       " 'Fwd.Avg.Bytes.Bulk',\n",
       " 'Fwd.Avg.Packets.Bulk',\n",
       " 'Fwd.Avg.Bulk.Rate',\n",
       " 'Bwd.Avg.Bytes.Bulk',\n",
       " 'Bwd.Avg.Packets.Bulk',\n",
       " 'Bwd.Avg.Bulk.Rate',\n",
       " 'Label']"
      ]
     },
     "execution_count": 132,
     "metadata": {},
     "output_type": "execute_result"
    }
   ],
   "source": [
    "single_unique_columns"
   ]
  },
  {
   "cell_type": "code",
   "execution_count": 133,
   "metadata": {},
   "outputs": [],
   "source": [
    "\n",
    "df.drop(\n",
    "    columns=['Flow.ID', 'Timestamp'] + single_unique_columns,\n",
    "    inplace=True\n",
    ")"
   ]
  },
  {
   "cell_type": "code",
   "execution_count": 134,
   "metadata": {},
   "outputs": [
    {
     "data": {
      "text/plain": [
       "Index(['Source.IP', 'Source.Port', 'Destination.IP', 'Destination.Port',\n",
       "       'Protocol', 'Flow.Duration', 'Total.Fwd.Packets',\n",
       "       'Total.Backward.Packets', 'Total.Length.of.Fwd.Packets',\n",
       "       'Total.Length.of.Bwd.Packets', 'Fwd.Packet.Length.Max',\n",
       "       'Fwd.Packet.Length.Min', 'Fwd.Packet.Length.Mean',\n",
       "       'Fwd.Packet.Length.Std', 'Bwd.Packet.Length.Max',\n",
       "       'Bwd.Packet.Length.Min', 'Bwd.Packet.Length.Mean',\n",
       "       'Bwd.Packet.Length.Std', 'Flow.Bytes.s', 'Flow.Packets.s',\n",
       "       'Flow.IAT.Mean', 'Flow.IAT.Std', 'Flow.IAT.Max', 'Flow.IAT.Min',\n",
       "       'Fwd.IAT.Total', 'Fwd.IAT.Mean', 'Fwd.IAT.Std', 'Fwd.IAT.Max',\n",
       "       'Fwd.IAT.Min', 'Bwd.IAT.Total', 'Bwd.IAT.Mean', 'Bwd.IAT.Std',\n",
       "       'Bwd.IAT.Max', 'Bwd.IAT.Min', 'Fwd.PSH.Flags', 'Fwd.Header.Length',\n",
       "       'Bwd.Header.Length', 'Fwd.Packets.s', 'Bwd.Packets.s',\n",
       "       'Min.Packet.Length', 'Max.Packet.Length', 'Packet.Length.Mean',\n",
       "       'Packet.Length.Std', 'Packet.Length.Variance', 'FIN.Flag.Count',\n",
       "       'SYN.Flag.Count', 'RST.Flag.Count', 'PSH.Flag.Count', 'ACK.Flag.Count',\n",
       "       'URG.Flag.Count', 'ECE.Flag.Count', 'Down.Up.Ratio',\n",
       "       'Average.Packet.Size', 'Avg.Fwd.Segment.Size', 'Avg.Bwd.Segment.Size',\n",
       "       'Fwd.Header.Length.1', 'Subflow.Fwd.Packets', 'Subflow.Fwd.Bytes',\n",
       "       'Subflow.Bwd.Packets', 'Subflow.Bwd.Bytes', 'Init_Win_bytes_forward',\n",
       "       'Init_Win_bytes_backward', 'act_data_pkt_fwd', 'min_seg_size_forward',\n",
       "       'Active.Mean', 'Active.Std', 'Active.Max', 'Active.Min', 'Idle.Mean',\n",
       "       'Idle.Std', 'Idle.Max', 'Idle.Min', 'L7Protocol', 'ProtocolName'],\n",
       "      dtype='object')"
      ]
     },
     "execution_count": 134,
     "metadata": {},
     "output_type": "execute_result"
    }
   ],
   "source": [
    "df.columns"
   ]
  },
  {
   "cell_type": "code",
   "execution_count": 135,
   "metadata": {},
   "outputs": [],
   "source": [
    "df.drop(\n",
    "    columns=[\n",
    "        'Active.Min',\n",
    "        'Idle.Min',\n",
    "        'Min.Packet.Length',\n",
    "        'Bwd.IAT.Min',\n",
    "        'Fwd.IAT.Min',\n",
    "        'Flow.IAT.Min',\n",
    "        'Bwd.Packet.Length.Min',\n",
    "        'Fwd.Packet.Length.Min'\n",
    "    ], inplace=True\n",
    ")"
   ]
  },
  {
   "cell_type": "code",
   "execution_count": 136,
   "metadata": {},
   "outputs": [
    {
     "name": "stdout",
     "output_type": "stream",
     "text": [
      "\n",
      " 66\n"
     ]
    }
   ],
   "source": [
    "df.columns\n",
    "print(f\"\\n {len(df.columns)}\")"
   ]
  },
  {
   "cell_type": "markdown",
   "metadata": {},
   "source": [
    "### 2. Frequency Encoding of Source IP address - finally skipped approach in favor of buckets"
   ]
  },
  {
   "cell_type": "code",
   "execution_count": 103,
   "metadata": {},
   "outputs": [],
   "source": [
    "freq_encoding = (\n",
    "    df.groupby('Source.IP').size()\n",
    ") / len(df)"
   ]
  },
  {
   "cell_type": "code",
   "execution_count": 46,
   "metadata": {},
   "outputs": [
    {
     "name": "stdout",
     "output_type": "stream",
     "text": [
      "<class 'pandas.core.series.Series'>\n",
      "Index(['10.120.1.191', '10.130.1.139', '10.130.10.101', '10.130.10.158',\n",
      "       '10.130.10.176', '10.130.10.191', '10.130.10.215', '10.130.10.232',\n",
      "       '10.130.12.1', '10.130.12.118',\n",
      "       ...\n",
      "       '98.139.199.204', '98.139.199.205', '98.139.21.169', '98.139.225.168',\n",
      "       '98.139.225.35', '98.139.225.43', '98.142.102.74', '98.158.99.143',\n",
      "       '98.158.99.149', '99.198.117.213'],\n",
      "      dtype='object', name='Source.IP', length=6566)\n",
      "--------------------\n",
      "Source.IP\n",
      "10.120.1.191      3.913570e-06\n",
      "10.130.1.139      2.795407e-07\n",
      "10.130.10.101     1.397704e-06\n",
      "10.130.10.158     2.795407e-07\n",
      "10.130.10.176     2.795407e-07\n",
      "                      ...     \n",
      "98.139.225.43     7.547600e-06\n",
      "98.142.102.74     1.397704e-06\n",
      "98.158.99.143     1.118163e-06\n",
      "98.158.99.149     5.590815e-07\n",
      "99.198.117.213    8.386222e-07\n",
      "Length: 6566, dtype: float64\n"
     ]
    }
   ],
   "source": [
    "print(type(freq_encoding))\n",
    "print(freq_encoding.index)\n",
    "print(\"-\"*20)\n",
    "print(freq_encoding)"
   ]
  },
  {
   "cell_type": "code",
   "execution_count": 104,
   "metadata": {},
   "outputs": [],
   "source": [
    "df['Source.IP.FreqEnc'] = df['Source.IP'].apply(lambda x: freq_encoding[x])\n",
    "# freq_encoding: Series -> Source.IP associated with frequency of occurence\n",
    "df.drop(columns=['Source.IP'], inplace=True)\n"
   ]
  },
  {
   "cell_type": "markdown",
   "metadata": {},
   "source": [
    "### 3. Apply One Hot Encoding of the Transport Layer (ISO/OSI Layer 4) Protocol Column\n",
    "- Protocol column consist on three unique values "
   ]
  },
  {
   "cell_type": "code",
   "execution_count": 137,
   "metadata": {},
   "outputs": [
    {
     "data": {
      "text/plain": [
       "6     3572975\n",
       "17       2684\n",
       "0        1637\n",
       "Name: Protocol, dtype: int64"
      ]
     },
     "execution_count": 137,
     "metadata": {},
     "output_type": "execute_result"
    }
   ],
   "source": [
    "df['Protocol'].value_counts()"
   ]
  },
  {
   "cell_type": "code",
   "execution_count": 138,
   "metadata": {},
   "outputs": [
    {
     "data": {
      "text/html": [
       "<div>\n",
       "<style scoped>\n",
       "    .dataframe tbody tr th:only-of-type {\n",
       "        vertical-align: middle;\n",
       "    }\n",
       "\n",
       "    .dataframe tbody tr th {\n",
       "        vertical-align: top;\n",
       "    }\n",
       "\n",
       "    .dataframe thead th {\n",
       "        text-align: right;\n",
       "    }\n",
       "</style>\n",
       "<table border=\"1\" class=\"dataframe\">\n",
       "  <thead>\n",
       "    <tr style=\"text-align: right;\">\n",
       "      <th></th>\n",
       "      <th>0</th>\n",
       "      <th>6</th>\n",
       "      <th>17</th>\n",
       "    </tr>\n",
       "  </thead>\n",
       "  <tbody>\n",
       "    <tr>\n",
       "      <th>0</th>\n",
       "      <td>0</td>\n",
       "      <td>1</td>\n",
       "      <td>0</td>\n",
       "    </tr>\n",
       "    <tr>\n",
       "      <th>1</th>\n",
       "      <td>0</td>\n",
       "      <td>1</td>\n",
       "      <td>0</td>\n",
       "    </tr>\n",
       "    <tr>\n",
       "      <th>2</th>\n",
       "      <td>0</td>\n",
       "      <td>1</td>\n",
       "      <td>0</td>\n",
       "    </tr>\n",
       "    <tr>\n",
       "      <th>3</th>\n",
       "      <td>0</td>\n",
       "      <td>1</td>\n",
       "      <td>0</td>\n",
       "    </tr>\n",
       "    <tr>\n",
       "      <th>4</th>\n",
       "      <td>0</td>\n",
       "      <td>1</td>\n",
       "      <td>0</td>\n",
       "    </tr>\n",
       "    <tr>\n",
       "      <th>...</th>\n",
       "      <td>...</td>\n",
       "      <td>...</td>\n",
       "      <td>...</td>\n",
       "    </tr>\n",
       "    <tr>\n",
       "      <th>3577291</th>\n",
       "      <td>0</td>\n",
       "      <td>1</td>\n",
       "      <td>0</td>\n",
       "    </tr>\n",
       "    <tr>\n",
       "      <th>3577292</th>\n",
       "      <td>0</td>\n",
       "      <td>1</td>\n",
       "      <td>0</td>\n",
       "    </tr>\n",
       "    <tr>\n",
       "      <th>3577293</th>\n",
       "      <td>0</td>\n",
       "      <td>1</td>\n",
       "      <td>0</td>\n",
       "    </tr>\n",
       "    <tr>\n",
       "      <th>3577294</th>\n",
       "      <td>0</td>\n",
       "      <td>1</td>\n",
       "      <td>0</td>\n",
       "    </tr>\n",
       "    <tr>\n",
       "      <th>3577295</th>\n",
       "      <td>0</td>\n",
       "      <td>1</td>\n",
       "      <td>0</td>\n",
       "    </tr>\n",
       "  </tbody>\n",
       "</table>\n",
       "<p>3577296 rows × 3 columns</p>\n",
       "</div>"
      ],
      "text/plain": [
       "         0   6   17\n",
       "0         0   1   0\n",
       "1         0   1   0\n",
       "2         0   1   0\n",
       "3         0   1   0\n",
       "4         0   1   0\n",
       "...      ..  ..  ..\n",
       "3577291   0   1   0\n",
       "3577292   0   1   0\n",
       "3577293   0   1   0\n",
       "3577294   0   1   0\n",
       "3577295   0   1   0\n",
       "\n",
       "[3577296 rows x 3 columns]"
      ]
     },
     "execution_count": 138,
     "metadata": {},
     "output_type": "execute_result"
    }
   ],
   "source": [
    "pd.get_dummies(df['Protocol'])\n",
    "# For each unique value in Protocol column, create separate column and mark value occurence by 1"
   ]
  },
  {
   "cell_type": "code",
   "execution_count": 139,
   "metadata": {},
   "outputs": [],
   "source": [
    "_tmp = pd.get_dummies(df['Protocol']).rename(\n",
    "    columns={\n",
    "        0:  \"Protocol:Unknown\",\n",
    "        6:  \"Protocol.TCP\",\n",
    "        17: \"Protocol.UDP\"\n",
    "    }\n",
    ")"
   ]
  },
  {
   "cell_type": "code",
   "execution_count": 140,
   "metadata": {},
   "outputs": [
    {
     "data": {
      "text/html": [
       "<div>\n",
       "<style scoped>\n",
       "    .dataframe tbody tr th:only-of-type {\n",
       "        vertical-align: middle;\n",
       "    }\n",
       "\n",
       "    .dataframe tbody tr th {\n",
       "        vertical-align: top;\n",
       "    }\n",
       "\n",
       "    .dataframe thead th {\n",
       "        text-align: right;\n",
       "    }\n",
       "</style>\n",
       "<table border=\"1\" class=\"dataframe\">\n",
       "  <thead>\n",
       "    <tr style=\"text-align: right;\">\n",
       "      <th></th>\n",
       "      <th>Protocol:Unknown</th>\n",
       "      <th>Protocol.TCP</th>\n",
       "      <th>Protocol.UDP</th>\n",
       "    </tr>\n",
       "  </thead>\n",
       "  <tbody>\n",
       "    <tr>\n",
       "      <th>0</th>\n",
       "      <td>0</td>\n",
       "      <td>1</td>\n",
       "      <td>0</td>\n",
       "    </tr>\n",
       "    <tr>\n",
       "      <th>1</th>\n",
       "      <td>0</td>\n",
       "      <td>1</td>\n",
       "      <td>0</td>\n",
       "    </tr>\n",
       "    <tr>\n",
       "      <th>2</th>\n",
       "      <td>0</td>\n",
       "      <td>1</td>\n",
       "      <td>0</td>\n",
       "    </tr>\n",
       "    <tr>\n",
       "      <th>3</th>\n",
       "      <td>0</td>\n",
       "      <td>1</td>\n",
       "      <td>0</td>\n",
       "    </tr>\n",
       "    <tr>\n",
       "      <th>4</th>\n",
       "      <td>0</td>\n",
       "      <td>1</td>\n",
       "      <td>0</td>\n",
       "    </tr>\n",
       "    <tr>\n",
       "      <th>...</th>\n",
       "      <td>...</td>\n",
       "      <td>...</td>\n",
       "      <td>...</td>\n",
       "    </tr>\n",
       "    <tr>\n",
       "      <th>3577291</th>\n",
       "      <td>0</td>\n",
       "      <td>1</td>\n",
       "      <td>0</td>\n",
       "    </tr>\n",
       "    <tr>\n",
       "      <th>3577292</th>\n",
       "      <td>0</td>\n",
       "      <td>1</td>\n",
       "      <td>0</td>\n",
       "    </tr>\n",
       "    <tr>\n",
       "      <th>3577293</th>\n",
       "      <td>0</td>\n",
       "      <td>1</td>\n",
       "      <td>0</td>\n",
       "    </tr>\n",
       "    <tr>\n",
       "      <th>3577294</th>\n",
       "      <td>0</td>\n",
       "      <td>1</td>\n",
       "      <td>0</td>\n",
       "    </tr>\n",
       "    <tr>\n",
       "      <th>3577295</th>\n",
       "      <td>0</td>\n",
       "      <td>1</td>\n",
       "      <td>0</td>\n",
       "    </tr>\n",
       "  </tbody>\n",
       "</table>\n",
       "<p>3577296 rows × 3 columns</p>\n",
       "</div>"
      ],
      "text/plain": [
       "         Protocol:Unknown  Protocol.TCP  Protocol.UDP\n",
       "0                       0             1             0\n",
       "1                       0             1             0\n",
       "2                       0             1             0\n",
       "3                       0             1             0\n",
       "4                       0             1             0\n",
       "...                   ...           ...           ...\n",
       "3577291                 0             1             0\n",
       "3577292                 0             1             0\n",
       "3577293                 0             1             0\n",
       "3577294                 0             1             0\n",
       "3577295                 0             1             0\n",
       "\n",
       "[3577296 rows x 3 columns]"
      ]
     },
     "execution_count": 140,
     "metadata": {},
     "output_type": "execute_result"
    }
   ],
   "source": [
    "_tmp"
   ]
  },
  {
   "cell_type": "code",
   "execution_count": 141,
   "metadata": {},
   "outputs": [],
   "source": [
    "df = pd.concat([df, _tmp], axis=1)"
   ]
  },
  {
   "cell_type": "code",
   "execution_count": 142,
   "metadata": {},
   "outputs": [
    {
     "data": {
      "text/plain": [
       "0          0\n",
       "1          0\n",
       "2          0\n",
       "3          0\n",
       "4          0\n",
       "          ..\n",
       "3577291    0\n",
       "3577292    0\n",
       "3577293    0\n",
       "3577294    0\n",
       "3577295    0\n",
       "Name: Protocol.UDP, Length: 3577296, dtype: uint8"
      ]
     },
     "execution_count": 142,
     "metadata": {},
     "output_type": "execute_result"
    }
   ],
   "source": [
    "df['Protocol.UDP']"
   ]
  },
  {
   "cell_type": "code",
   "execution_count": 143,
   "metadata": {},
   "outputs": [
    {
     "data": {
      "text/plain": [
       "0          6\n",
       "1          6\n",
       "2          6\n",
       "3          6\n",
       "4          6\n",
       "          ..\n",
       "3577291    6\n",
       "3577292    6\n",
       "3577293    6\n",
       "3577294    6\n",
       "3577295    6\n",
       "Name: Protocol, Length: 3577296, dtype: int64"
      ]
     },
     "execution_count": 143,
     "metadata": {},
     "output_type": "execute_result"
    }
   ],
   "source": [
    "df['Protocol']"
   ]
  },
  {
   "cell_type": "code",
   "execution_count": 144,
   "metadata": {},
   "outputs": [],
   "source": [
    "df.drop(columns=['Protocol'], inplace=True)"
   ]
  },
  {
   "cell_type": "code",
   "execution_count": 145,
   "metadata": {},
   "outputs": [
    {
     "data": {
      "text/html": [
       "<div>\n",
       "<style scoped>\n",
       "    .dataframe tbody tr th:only-of-type {\n",
       "        vertical-align: middle;\n",
       "    }\n",
       "\n",
       "    .dataframe tbody tr th {\n",
       "        vertical-align: top;\n",
       "    }\n",
       "\n",
       "    .dataframe thead th {\n",
       "        text-align: right;\n",
       "    }\n",
       "</style>\n",
       "<table border=\"1\" class=\"dataframe\">\n",
       "  <thead>\n",
       "    <tr style=\"text-align: right;\">\n",
       "      <th></th>\n",
       "      <th>Source.IP</th>\n",
       "      <th>Source.Port</th>\n",
       "      <th>Destination.IP</th>\n",
       "      <th>Destination.Port</th>\n",
       "      <th>Flow.Duration</th>\n",
       "      <th>Total.Fwd.Packets</th>\n",
       "      <th>Total.Backward.Packets</th>\n",
       "      <th>Total.Length.of.Fwd.Packets</th>\n",
       "      <th>Total.Length.of.Bwd.Packets</th>\n",
       "      <th>Fwd.Packet.Length.Max</th>\n",
       "      <th>...</th>\n",
       "      <th>Active.Std</th>\n",
       "      <th>Active.Max</th>\n",
       "      <th>Idle.Mean</th>\n",
       "      <th>Idle.Std</th>\n",
       "      <th>Idle.Max</th>\n",
       "      <th>L7Protocol</th>\n",
       "      <th>ProtocolName</th>\n",
       "      <th>Protocol:Unknown</th>\n",
       "      <th>Protocol.TCP</th>\n",
       "      <th>Protocol.UDP</th>\n",
       "    </tr>\n",
       "  </thead>\n",
       "  <tbody>\n",
       "    <tr>\n",
       "      <th>0</th>\n",
       "      <td>172.19.1.46</td>\n",
       "      <td>52422</td>\n",
       "      <td>10.200.7.7</td>\n",
       "      <td>3128</td>\n",
       "      <td>45523</td>\n",
       "      <td>22</td>\n",
       "      <td>55</td>\n",
       "      <td>132</td>\n",
       "      <td>110414.0</td>\n",
       "      <td>6</td>\n",
       "      <td>...</td>\n",
       "      <td>0.0</td>\n",
       "      <td>0.0</td>\n",
       "      <td>0.0</td>\n",
       "      <td>0.0</td>\n",
       "      <td>0.0</td>\n",
       "      <td>131</td>\n",
       "      <td>HTTP_PROXY</td>\n",
       "      <td>0</td>\n",
       "      <td>1</td>\n",
       "      <td>0</td>\n",
       "    </tr>\n",
       "    <tr>\n",
       "      <th>1</th>\n",
       "      <td>10.200.7.7</td>\n",
       "      <td>3128</td>\n",
       "      <td>172.19.1.46</td>\n",
       "      <td>52422</td>\n",
       "      <td>1</td>\n",
       "      <td>2</td>\n",
       "      <td>0</td>\n",
       "      <td>12</td>\n",
       "      <td>0.0</td>\n",
       "      <td>6</td>\n",
       "      <td>...</td>\n",
       "      <td>0.0</td>\n",
       "      <td>0.0</td>\n",
       "      <td>0.0</td>\n",
       "      <td>0.0</td>\n",
       "      <td>0.0</td>\n",
       "      <td>131</td>\n",
       "      <td>HTTP_PROXY</td>\n",
       "      <td>0</td>\n",
       "      <td>1</td>\n",
       "      <td>0</td>\n",
       "    </tr>\n",
       "    <tr>\n",
       "      <th>2</th>\n",
       "      <td>50.31.185.39</td>\n",
       "      <td>80</td>\n",
       "      <td>10.200.7.217</td>\n",
       "      <td>38848</td>\n",
       "      <td>1</td>\n",
       "      <td>3</td>\n",
       "      <td>0</td>\n",
       "      <td>674</td>\n",
       "      <td>0.0</td>\n",
       "      <td>337</td>\n",
       "      <td>...</td>\n",
       "      <td>0.0</td>\n",
       "      <td>0.0</td>\n",
       "      <td>0.0</td>\n",
       "      <td>0.0</td>\n",
       "      <td>0.0</td>\n",
       "      <td>7</td>\n",
       "      <td>HTTP</td>\n",
       "      <td>0</td>\n",
       "      <td>1</td>\n",
       "      <td>0</td>\n",
       "    </tr>\n",
       "  </tbody>\n",
       "</table>\n",
       "<p>3 rows × 68 columns</p>\n",
       "</div>"
      ],
      "text/plain": [
       "      Source.IP  Source.Port Destination.IP  Destination.Port  Flow.Duration  \\\n",
       "0   172.19.1.46        52422     10.200.7.7              3128          45523   \n",
       "1    10.200.7.7         3128    172.19.1.46             52422              1   \n",
       "2  50.31.185.39           80   10.200.7.217             38848              1   \n",
       "\n",
       "   Total.Fwd.Packets  Total.Backward.Packets  Total.Length.of.Fwd.Packets  \\\n",
       "0                 22                      55                          132   \n",
       "1                  2                       0                           12   \n",
       "2                  3                       0                          674   \n",
       "\n",
       "   Total.Length.of.Bwd.Packets  Fwd.Packet.Length.Max  ...  Active.Std  \\\n",
       "0                     110414.0                      6  ...         0.0   \n",
       "1                          0.0                      6  ...         0.0   \n",
       "2                          0.0                    337  ...         0.0   \n",
       "\n",
       "   Active.Max  Idle.Mean  Idle.Std  Idle.Max  L7Protocol  ProtocolName  \\\n",
       "0         0.0        0.0       0.0       0.0         131    HTTP_PROXY   \n",
       "1         0.0        0.0       0.0       0.0         131    HTTP_PROXY   \n",
       "2         0.0        0.0       0.0       0.0           7          HTTP   \n",
       "\n",
       "   Protocol:Unknown  Protocol.TCP  Protocol.UDP  \n",
       "0                 0             1             0  \n",
       "1                 0             1             0  \n",
       "2                 0             1             0  \n",
       "\n",
       "[3 rows x 68 columns]"
      ]
     },
     "execution_count": 145,
     "metadata": {},
     "output_type": "execute_result"
    }
   ],
   "source": [
    "df.head(3)"
   ]
  },
  {
   "cell_type": "markdown",
   "metadata": {},
   "source": [
    "### 4. Normalization of selected columns. Type of operation - Standarization."
   ]
  },
  {
   "cell_type": "code",
   "execution_count": 146,
   "metadata": {},
   "outputs": [],
   "source": [
    "def normalize(column):\n",
    "    # df[column] = (df[column] - df[column].min()) / (df[column].max() - df[column].min())\n",
    "    return (df[column] - df[column].min()) / (df[column].max() - df[column].min())"
   ]
  },
  {
   "cell_type": "code",
   "execution_count": 149,
   "metadata": {},
   "outputs": [],
   "source": [
    "prevent_from_normalization = [\n",
    "    'Source.IP', 'Destination.IP', 'Source.Port', 'Destination.Port', \n",
    "    'Protocol:Unknown', 'Protocol.TCP', 'Protocol.UDP', 'L7Protocol',\n",
    "    'ProtocolName.FreqEnc', 'Fwd.PSH.Flags', 'ProtocolName'\n",
    "]"
   ]
  },
  {
   "cell_type": "code",
   "execution_count": 150,
   "metadata": {},
   "outputs": [
    {
     "name": "stdout",
     "output_type": "stream",
     "text": [
      "Working with: Flow.Duration\n",
      "Normalized: Flow.Duration\n",
      "Working with: Total.Fwd.Packets\n",
      "Normalized: Total.Fwd.Packets\n",
      "Working with: Total.Backward.Packets\n",
      "Normalized: Total.Backward.Packets\n",
      "Working with: Total.Length.of.Fwd.Packets\n",
      "Normalized: Total.Length.of.Fwd.Packets\n",
      "Working with: Total.Length.of.Bwd.Packets\n",
      "Normalized: Total.Length.of.Bwd.Packets\n",
      "Working with: Fwd.Packet.Length.Max\n",
      "Normalized: Fwd.Packet.Length.Max\n",
      "Working with: Fwd.Packet.Length.Mean\n",
      "Normalized: Fwd.Packet.Length.Mean\n",
      "Working with: Fwd.Packet.Length.Std\n",
      "Normalized: Fwd.Packet.Length.Std\n",
      "Working with: Bwd.Packet.Length.Max\n",
      "Normalized: Bwd.Packet.Length.Max\n",
      "Working with: Bwd.Packet.Length.Mean\n",
      "Normalized: Bwd.Packet.Length.Mean\n",
      "Working with: Bwd.Packet.Length.Std\n",
      "Normalized: Bwd.Packet.Length.Std\n",
      "Working with: Flow.Bytes.s\n",
      "Normalized: Flow.Bytes.s\n",
      "Working with: Flow.Packets.s\n",
      "Normalized: Flow.Packets.s\n",
      "Working with: Flow.IAT.Mean\n",
      "Normalized: Flow.IAT.Mean\n",
      "Working with: Flow.IAT.Std\n",
      "Normalized: Flow.IAT.Std\n",
      "Working with: Flow.IAT.Max\n",
      "Normalized: Flow.IAT.Max\n",
      "Working with: Fwd.IAT.Total\n",
      "Normalized: Fwd.IAT.Total\n",
      "Working with: Fwd.IAT.Mean\n",
      "Normalized: Fwd.IAT.Mean\n",
      "Working with: Fwd.IAT.Std\n",
      "Normalized: Fwd.IAT.Std\n",
      "Working with: Fwd.IAT.Max\n",
      "Normalized: Fwd.IAT.Max\n",
      "Working with: Bwd.IAT.Total\n",
      "Normalized: Bwd.IAT.Total\n",
      "Working with: Bwd.IAT.Mean\n",
      "Normalized: Bwd.IAT.Mean\n",
      "Working with: Bwd.IAT.Std\n",
      "Normalized: Bwd.IAT.Std\n",
      "Working with: Bwd.IAT.Max\n",
      "Normalized: Bwd.IAT.Max\n",
      "Working with: Fwd.Header.Length\n",
      "Normalized: Fwd.Header.Length\n",
      "Working with: Bwd.Header.Length\n",
      "Normalized: Bwd.Header.Length\n",
      "Working with: Fwd.Packets.s\n",
      "Normalized: Fwd.Packets.s\n",
      "Working with: Bwd.Packets.s\n",
      "Normalized: Bwd.Packets.s\n",
      "Working with: Max.Packet.Length\n",
      "Normalized: Max.Packet.Length\n",
      "Working with: Packet.Length.Mean\n",
      "Normalized: Packet.Length.Mean\n",
      "Working with: Packet.Length.Std\n",
      "Normalized: Packet.Length.Std\n",
      "Working with: Packet.Length.Variance\n",
      "Normalized: Packet.Length.Variance\n",
      "Working with: FIN.Flag.Count\n",
      "Normalized: FIN.Flag.Count\n",
      "Working with: SYN.Flag.Count\n",
      "Normalized: SYN.Flag.Count\n",
      "Working with: RST.Flag.Count\n",
      "Normalized: RST.Flag.Count\n",
      "Working with: PSH.Flag.Count\n",
      "Normalized: PSH.Flag.Count\n",
      "Working with: ACK.Flag.Count\n",
      "Normalized: ACK.Flag.Count\n",
      "Working with: URG.Flag.Count\n",
      "Normalized: URG.Flag.Count\n",
      "Working with: ECE.Flag.Count\n",
      "Normalized: ECE.Flag.Count\n",
      "Working with: Down.Up.Ratio\n",
      "Normalized: Down.Up.Ratio\n",
      "Working with: Average.Packet.Size\n",
      "Normalized: Average.Packet.Size\n",
      "Working with: Avg.Fwd.Segment.Size\n",
      "Normalized: Avg.Fwd.Segment.Size\n",
      "Working with: Avg.Bwd.Segment.Size\n",
      "Normalized: Avg.Bwd.Segment.Size\n",
      "Working with: Fwd.Header.Length.1\n",
      "Normalized: Fwd.Header.Length.1\n",
      "Working with: Subflow.Fwd.Packets\n",
      "Normalized: Subflow.Fwd.Packets\n",
      "Working with: Subflow.Fwd.Bytes\n",
      "Normalized: Subflow.Fwd.Bytes\n",
      "Working with: Subflow.Bwd.Packets\n",
      "Normalized: Subflow.Bwd.Packets\n",
      "Working with: Subflow.Bwd.Bytes\n",
      "Normalized: Subflow.Bwd.Bytes\n",
      "Working with: Init_Win_bytes_forward\n",
      "Normalized: Init_Win_bytes_forward\n",
      "Working with: Init_Win_bytes_backward\n",
      "Normalized: Init_Win_bytes_backward\n",
      "Working with: act_data_pkt_fwd\n",
      "Normalized: act_data_pkt_fwd\n",
      "Working with: min_seg_size_forward\n",
      "Normalized: min_seg_size_forward\n",
      "Working with: Active.Mean\n",
      "Normalized: Active.Mean\n",
      "Working with: Active.Std\n",
      "Normalized: Active.Std\n",
      "Working with: Active.Max\n",
      "Normalized: Active.Max\n",
      "Working with: Idle.Mean\n",
      "Normalized: Idle.Mean\n",
      "Working with: Idle.Std\n",
      "Normalized: Idle.Std\n",
      "Working with: Idle.Max\n",
      "Normalized: Idle.Max\n"
     ]
    }
   ],
   "source": [
    "for col in df.columns:\n",
    "    if col not in prevent_from_normalization:\n",
    "        print(f\"Working with: {str(col)}\")\n",
    "        df[col] = (df[col] - df[col].min())/(df[col].max() - df[col].min())\n",
    "        print(f'Normalized: {str(col)}')"
   ]
  },
  {
   "cell_type": "code",
   "execution_count": 151,
   "metadata": {},
   "outputs": [
    {
     "data": {
      "text/html": [
       "<div>\n",
       "<style scoped>\n",
       "    .dataframe tbody tr th:only-of-type {\n",
       "        vertical-align: middle;\n",
       "    }\n",
       "\n",
       "    .dataframe tbody tr th {\n",
       "        vertical-align: top;\n",
       "    }\n",
       "\n",
       "    .dataframe thead th {\n",
       "        text-align: right;\n",
       "    }\n",
       "</style>\n",
       "<table border=\"1\" class=\"dataframe\">\n",
       "  <thead>\n",
       "    <tr style=\"text-align: right;\">\n",
       "      <th></th>\n",
       "      <th>Source.IP</th>\n",
       "      <th>Source.Port</th>\n",
       "      <th>Destination.IP</th>\n",
       "      <th>Destination.Port</th>\n",
       "      <th>Flow.Duration</th>\n",
       "      <th>Total.Fwd.Packets</th>\n",
       "      <th>Total.Backward.Packets</th>\n",
       "      <th>Total.Length.of.Fwd.Packets</th>\n",
       "      <th>Total.Length.of.Bwd.Packets</th>\n",
       "      <th>Fwd.Packet.Length.Max</th>\n",
       "      <th>...</th>\n",
       "      <th>Active.Std</th>\n",
       "      <th>Active.Max</th>\n",
       "      <th>Idle.Mean</th>\n",
       "      <th>Idle.Std</th>\n",
       "      <th>Idle.Max</th>\n",
       "      <th>L7Protocol</th>\n",
       "      <th>ProtocolName</th>\n",
       "      <th>Protocol:Unknown</th>\n",
       "      <th>Protocol.TCP</th>\n",
       "      <th>Protocol.UDP</th>\n",
       "    </tr>\n",
       "  </thead>\n",
       "  <tbody>\n",
       "    <tr>\n",
       "      <th>0</th>\n",
       "      <td>172.19.1.46</td>\n",
       "      <td>52422</td>\n",
       "      <td>10.200.7.7</td>\n",
       "      <td>3128</td>\n",
       "      <td>3.793500e-04</td>\n",
       "      <td>0.000046</td>\n",
       "      <td>0.000101</td>\n",
       "      <td>1.946835e-07</td>\n",
       "      <td>0.000082</td>\n",
       "      <td>0.000183</td>\n",
       "      <td>...</td>\n",
       "      <td>0.0</td>\n",
       "      <td>0.0</td>\n",
       "      <td>0.0</td>\n",
       "      <td>0.0</td>\n",
       "      <td>0.0</td>\n",
       "      <td>131</td>\n",
       "      <td>HTTP_PROXY</td>\n",
       "      <td>0</td>\n",
       "      <td>1</td>\n",
       "      <td>0</td>\n",
       "    </tr>\n",
       "    <tr>\n",
       "      <th>1</th>\n",
       "      <td>10.200.7.7</td>\n",
       "      <td>3128</td>\n",
       "      <td>172.19.1.46</td>\n",
       "      <td>52422</td>\n",
       "      <td>0.000000e+00</td>\n",
       "      <td>0.000002</td>\n",
       "      <td>0.000000</td>\n",
       "      <td>1.769850e-08</td>\n",
       "      <td>0.000000</td>\n",
       "      <td>0.000183</td>\n",
       "      <td>...</td>\n",
       "      <td>0.0</td>\n",
       "      <td>0.0</td>\n",
       "      <td>0.0</td>\n",
       "      <td>0.0</td>\n",
       "      <td>0.0</td>\n",
       "      <td>131</td>\n",
       "      <td>HTTP_PROXY</td>\n",
       "      <td>0</td>\n",
       "      <td>1</td>\n",
       "      <td>0</td>\n",
       "    </tr>\n",
       "    <tr>\n",
       "      <th>2</th>\n",
       "      <td>50.31.185.39</td>\n",
       "      <td>80</td>\n",
       "      <td>10.200.7.217</td>\n",
       "      <td>38848</td>\n",
       "      <td>0.000000e+00</td>\n",
       "      <td>0.000004</td>\n",
       "      <td>0.000000</td>\n",
       "      <td>9.940657e-07</td>\n",
       "      <td>0.000000</td>\n",
       "      <td>0.010264</td>\n",
       "      <td>...</td>\n",
       "      <td>0.0</td>\n",
       "      <td>0.0</td>\n",
       "      <td>0.0</td>\n",
       "      <td>0.0</td>\n",
       "      <td>0.0</td>\n",
       "      <td>7</td>\n",
       "      <td>HTTP</td>\n",
       "      <td>0</td>\n",
       "      <td>1</td>\n",
       "      <td>0</td>\n",
       "    </tr>\n",
       "    <tr>\n",
       "      <th>3</th>\n",
       "      <td>50.31.185.39</td>\n",
       "      <td>80</td>\n",
       "      <td>10.200.7.217</td>\n",
       "      <td>38848</td>\n",
       "      <td>1.800000e-06</td>\n",
       "      <td>0.000000</td>\n",
       "      <td>0.000006</td>\n",
       "      <td>0.000000e+00</td>\n",
       "      <td>0.000000</td>\n",
       "      <td>0.000000</td>\n",
       "      <td>...</td>\n",
       "      <td>0.0</td>\n",
       "      <td>0.0</td>\n",
       "      <td>0.0</td>\n",
       "      <td>0.0</td>\n",
       "      <td>0.0</td>\n",
       "      <td>7</td>\n",
       "      <td>HTTP</td>\n",
       "      <td>0</td>\n",
       "      <td>1</td>\n",
       "      <td>0</td>\n",
       "    </tr>\n",
       "    <tr>\n",
       "      <th>4</th>\n",
       "      <td>192.168.72.43</td>\n",
       "      <td>55961</td>\n",
       "      <td>10.200.7.7</td>\n",
       "      <td>3128</td>\n",
       "      <td>6.505583e-04</td>\n",
       "      <td>0.000009</td>\n",
       "      <td>0.000000</td>\n",
       "      <td>1.586965e-06</td>\n",
       "      <td>0.000000</td>\n",
       "      <td>0.016112</td>\n",
       "      <td>...</td>\n",
       "      <td>0.0</td>\n",
       "      <td>0.0</td>\n",
       "      <td>0.0</td>\n",
       "      <td>0.0</td>\n",
       "      <td>0.0</td>\n",
       "      <td>131</td>\n",
       "      <td>HTTP_PROXY</td>\n",
       "      <td>0</td>\n",
       "      <td>1</td>\n",
       "      <td>0</td>\n",
       "    </tr>\n",
       "    <tr>\n",
       "      <th>...</th>\n",
       "      <td>...</td>\n",
       "      <td>...</td>\n",
       "      <td>...</td>\n",
       "      <td>...</td>\n",
       "      <td>...</td>\n",
       "      <td>...</td>\n",
       "      <td>...</td>\n",
       "      <td>...</td>\n",
       "      <td>...</td>\n",
       "      <td>...</td>\n",
       "      <td>...</td>\n",
       "      <td>...</td>\n",
       "      <td>...</td>\n",
       "      <td>...</td>\n",
       "      <td>...</td>\n",
       "      <td>...</td>\n",
       "      <td>...</td>\n",
       "      <td>...</td>\n",
       "      <td>...</td>\n",
       "      <td>...</td>\n",
       "      <td>...</td>\n",
       "    </tr>\n",
       "    <tr>\n",
       "      <th>3577291</th>\n",
       "      <td>98.138.79.73</td>\n",
       "      <td>443</td>\n",
       "      <td>10.200.7.199</td>\n",
       "      <td>42135</td>\n",
       "      <td>1.909017e-02</td>\n",
       "      <td>0.000009</td>\n",
       "      <td>0.000007</td>\n",
       "      <td>8.834501e-07</td>\n",
       "      <td>0.000002</td>\n",
       "      <td>0.018244</td>\n",
       "      <td>...</td>\n",
       "      <td>0.0</td>\n",
       "      <td>0.0</td>\n",
       "      <td>0.0</td>\n",
       "      <td>0.0</td>\n",
       "      <td>0.0</td>\n",
       "      <td>91</td>\n",
       "      <td>SSL</td>\n",
       "      <td>0</td>\n",
       "      <td>1</td>\n",
       "      <td>0</td>\n",
       "    </tr>\n",
       "    <tr>\n",
       "      <th>3577292</th>\n",
       "      <td>98.138.79.73</td>\n",
       "      <td>443</td>\n",
       "      <td>10.200.7.217</td>\n",
       "      <td>51546</td>\n",
       "      <td>1.916667e-07</td>\n",
       "      <td>0.000009</td>\n",
       "      <td>0.000000</td>\n",
       "      <td>2.135619e-06</td>\n",
       "      <td>0.000000</td>\n",
       "      <td>0.044103</td>\n",
       "      <td>...</td>\n",
       "      <td>0.0</td>\n",
       "      <td>0.0</td>\n",
       "      <td>0.0</td>\n",
       "      <td>0.0</td>\n",
       "      <td>0.0</td>\n",
       "      <td>91</td>\n",
       "      <td>SSL</td>\n",
       "      <td>0</td>\n",
       "      <td>1</td>\n",
       "      <td>0</td>\n",
       "    </tr>\n",
       "    <tr>\n",
       "      <th>3577293</th>\n",
       "      <td>98.138.79.73</td>\n",
       "      <td>443</td>\n",
       "      <td>10.200.7.218</td>\n",
       "      <td>44366</td>\n",
       "      <td>2.159710e-02</td>\n",
       "      <td>0.000011</td>\n",
       "      <td>0.000009</td>\n",
       "      <td>1.772800e-06</td>\n",
       "      <td>0.000003</td>\n",
       "      <td>0.018305</td>\n",
       "      <td>...</td>\n",
       "      <td>0.0</td>\n",
       "      <td>0.0</td>\n",
       "      <td>0.0</td>\n",
       "      <td>0.0</td>\n",
       "      <td>0.0</td>\n",
       "      <td>91</td>\n",
       "      <td>SSL</td>\n",
       "      <td>0</td>\n",
       "      <td>1</td>\n",
       "      <td>0</td>\n",
       "    </tr>\n",
       "    <tr>\n",
       "      <th>3577294</th>\n",
       "      <td>98.138.79.73</td>\n",
       "      <td>443</td>\n",
       "      <td>10.200.7.195</td>\n",
       "      <td>52341</td>\n",
       "      <td>2.185350e-02</td>\n",
       "      <td>0.000007</td>\n",
       "      <td>0.000006</td>\n",
       "      <td>9.321210e-07</td>\n",
       "      <td>0.000002</td>\n",
       "      <td>0.010721</td>\n",
       "      <td>...</td>\n",
       "      <td>0.0</td>\n",
       "      <td>0.0</td>\n",
       "      <td>0.0</td>\n",
       "      <td>0.0</td>\n",
       "      <td>0.0</td>\n",
       "      <td>91</td>\n",
       "      <td>SSL</td>\n",
       "      <td>0</td>\n",
       "      <td>1</td>\n",
       "      <td>0</td>\n",
       "    </tr>\n",
       "    <tr>\n",
       "      <th>3577295</th>\n",
       "      <td>98.138.79.73</td>\n",
       "      <td>443</td>\n",
       "      <td>10.200.7.196</td>\n",
       "      <td>34188</td>\n",
       "      <td>1.674281e-02</td>\n",
       "      <td>0.000004</td>\n",
       "      <td>0.000004</td>\n",
       "      <td>8.805003e-07</td>\n",
       "      <td>0.000002</td>\n",
       "      <td>0.018183</td>\n",
       "      <td>...</td>\n",
       "      <td>0.0</td>\n",
       "      <td>0.0</td>\n",
       "      <td>0.0</td>\n",
       "      <td>0.0</td>\n",
       "      <td>0.0</td>\n",
       "      <td>91</td>\n",
       "      <td>SSL</td>\n",
       "      <td>0</td>\n",
       "      <td>1</td>\n",
       "      <td>0</td>\n",
       "    </tr>\n",
       "  </tbody>\n",
       "</table>\n",
       "<p>3577296 rows × 68 columns</p>\n",
       "</div>"
      ],
      "text/plain": [
       "             Source.IP  Source.Port Destination.IP  Destination.Port  \\\n",
       "0          172.19.1.46        52422     10.200.7.7              3128   \n",
       "1           10.200.7.7         3128    172.19.1.46             52422   \n",
       "2         50.31.185.39           80   10.200.7.217             38848   \n",
       "3         50.31.185.39           80   10.200.7.217             38848   \n",
       "4        192.168.72.43        55961     10.200.7.7              3128   \n",
       "...                ...          ...            ...               ...   \n",
       "3577291   98.138.79.73          443   10.200.7.199             42135   \n",
       "3577292   98.138.79.73          443   10.200.7.217             51546   \n",
       "3577293   98.138.79.73          443   10.200.7.218             44366   \n",
       "3577294   98.138.79.73          443   10.200.7.195             52341   \n",
       "3577295   98.138.79.73          443   10.200.7.196             34188   \n",
       "\n",
       "         Flow.Duration  Total.Fwd.Packets  Total.Backward.Packets  \\\n",
       "0         3.793500e-04           0.000046                0.000101   \n",
       "1         0.000000e+00           0.000002                0.000000   \n",
       "2         0.000000e+00           0.000004                0.000000   \n",
       "3         1.800000e-06           0.000000                0.000006   \n",
       "4         6.505583e-04           0.000009                0.000000   \n",
       "...                ...                ...                     ...   \n",
       "3577291   1.909017e-02           0.000009                0.000007   \n",
       "3577292   1.916667e-07           0.000009                0.000000   \n",
       "3577293   2.159710e-02           0.000011                0.000009   \n",
       "3577294   2.185350e-02           0.000007                0.000006   \n",
       "3577295   1.674281e-02           0.000004                0.000004   \n",
       "\n",
       "         Total.Length.of.Fwd.Packets  Total.Length.of.Bwd.Packets  \\\n",
       "0                       1.946835e-07                     0.000082   \n",
       "1                       1.769850e-08                     0.000000   \n",
       "2                       9.940657e-07                     0.000000   \n",
       "3                       0.000000e+00                     0.000000   \n",
       "4                       1.586965e-06                     0.000000   \n",
       "...                              ...                          ...   \n",
       "3577291                 8.834501e-07                     0.000002   \n",
       "3577292                 2.135619e-06                     0.000000   \n",
       "3577293                 1.772800e-06                     0.000003   \n",
       "3577294                 9.321210e-07                     0.000002   \n",
       "3577295                 8.805003e-07                     0.000002   \n",
       "\n",
       "         Fwd.Packet.Length.Max  ...  Active.Std  Active.Max  Idle.Mean  \\\n",
       "0                     0.000183  ...         0.0         0.0        0.0   \n",
       "1                     0.000183  ...         0.0         0.0        0.0   \n",
       "2                     0.010264  ...         0.0         0.0        0.0   \n",
       "3                     0.000000  ...         0.0         0.0        0.0   \n",
       "4                     0.016112  ...         0.0         0.0        0.0   \n",
       "...                        ...  ...         ...         ...        ...   \n",
       "3577291               0.018244  ...         0.0         0.0        0.0   \n",
       "3577292               0.044103  ...         0.0         0.0        0.0   \n",
       "3577293               0.018305  ...         0.0         0.0        0.0   \n",
       "3577294               0.010721  ...         0.0         0.0        0.0   \n",
       "3577295               0.018183  ...         0.0         0.0        0.0   \n",
       "\n",
       "         Idle.Std  Idle.Max  L7Protocol  ProtocolName  Protocol:Unknown  \\\n",
       "0             0.0       0.0         131    HTTP_PROXY                 0   \n",
       "1             0.0       0.0         131    HTTP_PROXY                 0   \n",
       "2             0.0       0.0           7          HTTP                 0   \n",
       "3             0.0       0.0           7          HTTP                 0   \n",
       "4             0.0       0.0         131    HTTP_PROXY                 0   \n",
       "...           ...       ...         ...           ...               ...   \n",
       "3577291       0.0       0.0          91           SSL                 0   \n",
       "3577292       0.0       0.0          91           SSL                 0   \n",
       "3577293       0.0       0.0          91           SSL                 0   \n",
       "3577294       0.0       0.0          91           SSL                 0   \n",
       "3577295       0.0       0.0          91           SSL                 0   \n",
       "\n",
       "         Protocol.TCP  Protocol.UDP  \n",
       "0                   1             0  \n",
       "1                   1             0  \n",
       "2                   1             0  \n",
       "3                   1             0  \n",
       "4                   1             0  \n",
       "...               ...           ...  \n",
       "3577291             1             0  \n",
       "3577292             1             0  \n",
       "3577293             1             0  \n",
       "3577294             1             0  \n",
       "3577295             1             0  \n",
       "\n",
       "[3577296 rows x 68 columns]"
      ]
     },
     "execution_count": 151,
     "metadata": {},
     "output_type": "execute_result"
    }
   ],
   "source": [
    "df"
   ]
  },
  {
   "cell_type": "markdown",
   "metadata": {},
   "source": [
    "### 5. Frequency encoding of services - ProtocolName Column"
   ]
  },
  {
   "cell_type": "code",
   "execution_count": 152,
   "metadata": {},
   "outputs": [
    {
     "data": {
      "text/plain": [
       "GOOGLE          959110\n",
       "HTTP            683734\n",
       "HTTP_PROXY      623210\n",
       "SSL             404883\n",
       "HTTP_CONNECT    317526\n",
       "                 ...  \n",
       "STARCRAFT            3\n",
       "QQ                   2\n",
       "99TAXI               1\n",
       "SOCKS                1\n",
       "NFS                  1\n",
       "Name: ProtocolName, Length: 78, dtype: int64"
      ]
     },
     "execution_count": 152,
     "metadata": {},
     "output_type": "execute_result"
    }
   ],
   "source": [
    "df['ProtocolName'].value_counts()"
   ]
  },
  {
   "cell_type": "code",
   "execution_count": 153,
   "metadata": {},
   "outputs": [],
   "source": [
    "freq_encoding = (df.groupby(['ProtocolName']).size()) / len(df)"
   ]
  },
  {
   "cell_type": "code",
   "execution_count": 154,
   "metadata": {},
   "outputs": [
    {
     "data": {
      "text/plain": [
       "ProtocolName\n",
       "99TAXI            2.795407e-07\n",
       "AMAZON            2.428510e-02\n",
       "APPLE             2.128703e-03\n",
       "APPLE_ICLOUD      3.354489e-04\n",
       "APPLE_ITUNES      3.597689e-04\n",
       "                      ...     \n",
       "WHOIS_DAS         2.795407e-06\n",
       "WIKIPEDIA         5.660700e-04\n",
       "WINDOWS_UPDATE    9.636049e-03\n",
       "YAHOO             5.945273e-03\n",
       "YOUTUBE           4.774025e-02\n",
       "Length: 78, dtype: float64"
      ]
     },
     "execution_count": 154,
     "metadata": {},
     "output_type": "execute_result"
    }
   ],
   "source": [
    "freq_encoding"
   ]
  },
  {
   "cell_type": "code",
   "execution_count": 155,
   "metadata": {},
   "outputs": [],
   "source": [
    "df['ProtocolName.FreqEnc'] = df['ProtocolName'].apply(lambda x: freq_encoding[x])\n",
    "df.drop(columns=['ProtocolName'], inplace=True)"
   ]
  },
  {
   "cell_type": "markdown",
   "metadata": {},
   "source": [
    "### 6. Inspect datatypes"
   ]
  },
  {
   "cell_type": "code",
   "execution_count": 156,
   "metadata": {},
   "outputs": [
    {
     "data": {
      "text/plain": [
       "float64    59\n",
       "int64       4\n",
       "uint8       3\n",
       "object      2\n",
       "dtype: int64"
      ]
     },
     "execution_count": 156,
     "metadata": {},
     "output_type": "execute_result"
    }
   ],
   "source": [
    "df.dtypes.value_counts()"
   ]
  },
  {
   "cell_type": "code",
   "execution_count": 157,
   "metadata": {},
   "outputs": [
    {
     "data": {
      "text/plain": [
       "['Source.IP', 'Destination.IP']"
      ]
     },
     "execution_count": 157,
     "metadata": {},
     "output_type": "execute_result"
    }
   ],
   "source": [
    "list(df.select_dtypes(include=['object']).columns)"
   ]
  },
  {
   "cell_type": "markdown",
   "metadata": {},
   "source": [
    "### 7. Assign Source.IP, Destination.IP, Source.Port and Destination.Port to buckets\n",
    "- get 100 most popular values - consider them as not suspected, assign value of 0\n",
    "- in case of first occurence, consider as suspected, assign value of 1\n",
    "- occurences less popular than first 100 entries, assign value of 0.5"
   ]
  },
  {
   "cell_type": "code",
   "execution_count": 164,
   "metadata": {},
   "outputs": [],
   "source": [
    "source_IP_most = df['Source.IP'].value_counts()[:100].sort_values(ascending=False).index.tolist()\n",
    "source_IP_all = df['Source.IP'].unique().tolist()\n",
    "\n",
    "dest_IP_most = df['Destination.IP'].value_counts()[:100].sort_values(ascending=False).index.tolist()\n",
    "dest_IP_all = df['Destination.IP'].unique().tolist()\n",
    "\n",
    "source_Port_most = df['Source.Port'].value_counts()[:100].sort_values(ascending=False).index.tolist()\n",
    "source_Port_all = df['Source.Port'].unique().tolist()\n",
    "\n",
    "dest_Port_most = df['Destination.Port'].value_counts()[:100].sort_values(ascending=False).index.tolist()\n",
    "dest_port_all = df['Destination.Port'].unique().tolist()"
   ]
  },
  {
   "cell_type": "code",
   "execution_count": 165,
   "metadata": {},
   "outputs": [],
   "source": [
    "df['Source.IP.Value'] = df['Source.IP'].apply(\n",
    "    lambda row: 1 if row in source_IP_most else 0.5 if row in source_IP_all else 0\n",
    ")"
   ]
  },
  {
   "cell_type": "code",
   "execution_count": 166,
   "metadata": {},
   "outputs": [],
   "source": [
    "df['Destination.IP.Value'] = df['Destination.IP'].apply(\n",
    "    lambda row: 1 if row in dest_IP_most else 0.5 if row in dest_IP_all else 0\n",
    ")"
   ]
  },
  {
   "cell_type": "code",
   "execution_count": 167,
   "metadata": {},
   "outputs": [],
   "source": [
    "df['Source.Port.Value'] = df['Source.Port'].apply(\n",
    "    lambda row: 1 if row in source_Port_most else 0.5 if row in source_Port_all else 0\n",
    ")"
   ]
  },
  {
   "cell_type": "code",
   "execution_count": 168,
   "metadata": {},
   "outputs": [],
   "source": [
    "df['Destination.Port.Value'] = df['Destination.Port'].apply(\n",
    "    lambda row: 1 if row in dest_Port_most else 0.5 if row in dest_port_all else 0\n",
    ")"
   ]
  },
  {
   "cell_type": "code",
   "execution_count": 169,
   "metadata": {},
   "outputs": [],
   "source": [
    "df.drop(columns=['Source.IP', 'Destination.IP', 'Source.Port', 'Destination.Port'], inplace=True)"
   ]
  },
  {
   "cell_type": "markdown",
   "metadata": {},
   "source": [
    "### 8. Final pruning"
   ]
  },
  {
   "cell_type": "code",
   "execution_count": 172,
   "metadata": {},
   "outputs": [
    {
     "data": {
      "text/plain": [
       "Index(['Flow.Duration', 'Total.Fwd.Packets', 'Total.Backward.Packets',\n",
       "       'Total.Length.of.Fwd.Packets', 'Total.Length.of.Bwd.Packets',\n",
       "       'Fwd.Packet.Length.Max', 'Fwd.Packet.Length.Mean',\n",
       "       'Fwd.Packet.Length.Std', 'Bwd.Packet.Length.Max',\n",
       "       'Bwd.Packet.Length.Mean', 'Bwd.Packet.Length.Std', 'Flow.Bytes.s',\n",
       "       'Flow.Packets.s', 'Flow.IAT.Mean', 'Flow.IAT.Std', 'Flow.IAT.Max',\n",
       "       'Fwd.IAT.Total', 'Fwd.IAT.Mean', 'Fwd.IAT.Std', 'Fwd.IAT.Max',\n",
       "       'Bwd.IAT.Total', 'Bwd.IAT.Mean', 'Bwd.IAT.Std', 'Bwd.IAT.Max',\n",
       "       'Fwd.PSH.Flags', 'Fwd.Header.Length', 'Bwd.Header.Length',\n",
       "       'Fwd.Packets.s', 'Bwd.Packets.s', 'Max.Packet.Length',\n",
       "       'Packet.Length.Mean', 'Packet.Length.Std', 'Packet.Length.Variance',\n",
       "       'FIN.Flag.Count', 'SYN.Flag.Count', 'RST.Flag.Count', 'PSH.Flag.Count',\n",
       "       'ACK.Flag.Count', 'URG.Flag.Count', 'ECE.Flag.Count', 'Down.Up.Ratio',\n",
       "       'Average.Packet.Size', 'Avg.Fwd.Segment.Size', 'Avg.Bwd.Segment.Size',\n",
       "       'Fwd.Header.Length.1', 'Subflow.Fwd.Packets', 'Subflow.Fwd.Bytes',\n",
       "       'Subflow.Bwd.Packets', 'Subflow.Bwd.Bytes', 'Init_Win_bytes_forward',\n",
       "       'Init_Win_bytes_backward', 'act_data_pkt_fwd', 'min_seg_size_forward',\n",
       "       'Active.Mean', 'Active.Std', 'Active.Max', 'Idle.Mean', 'Idle.Std',\n",
       "       'Idle.Max', 'L7Protocol', 'Protocol:Unknown', 'Protocol.TCP',\n",
       "       'Protocol.UDP', 'ProtocolName.FreqEnc', 'Source.IP.Value',\n",
       "       'Destination.IP.Value', 'Source.Port.Value', 'Destination.Port.Value'],\n",
       "      dtype='object')"
      ]
     },
     "execution_count": 172,
     "metadata": {},
     "output_type": "execute_result"
    }
   ],
   "source": [
    "df.columns"
   ]
  },
  {
   "cell_type": "code",
   "execution_count": 187,
   "metadata": {},
   "outputs": [],
   "source": [
    "final_set_of_columns = [\n",
    "    \"Unnamed: 0\",\n",
    "    \"Flow.Duration\",\n",
    "    \"Total.Fwd.Packets\",\n",
    "    \"Total.Backward.Packets\",\n",
    "    \"Total.Length.of.Fwd.Packets\",\n",
    "    \"Total.Length.of.Bwd.Packets\",\n",
    "    \"Fwd.Packet.Length.Max\",\n",
    "    \"Fwd.Packet.Length.Mean\",\n",
    "    \"Fwd.Packet.Length.Std\",\n",
    "    \"Flow.Bytes.s\",\n",
    "    \"Flow.IAT.Mean\",\n",
    "    \"Flow.IAT.Std\",\n",
    "    \"Fwd.IAT.Mean\",\n",
    "    \"Fwd.IAT.Std\",\n",
    "    \"Fwd.IAT.Max\",\n",
    "    \"Bwd.IAT.Mean\",\n",
    "    \"Bwd.IAT.Std\",\n",
    "    \"Fwd.PSH.Flags\",\n",
    "    \"Fwd.Packets.s\",\n",
    "    \"Bwd.Packets.s\",\n",
    "    \"Max.Packet.Length\",\n",
    "    \"Packet.Length.Mean\",\n",
    "    \"Packet.Length.Std\",\n",
    "    \"FIN.Flag.Count\",\n",
    "    \"SYN.Flag.Count\",\n",
    "    \"ACK.Flag.Count\",\n",
    "    \"URG.Flag.Count\",\n",
    "    \"ECE.Flag.Count\",\n",
    "    \"Down.Up.Ratio\",\n",
    "    \"Subflow.Fwd.Packets\",\n",
    "    \"Subflow.Fwd.Bytes\",\n",
    "    \"Subflow.Bwd.Packets\",\n",
    "    \"Subflow.Bwd.Bytes\",\n",
    "    \"Init_Win_bytes_forward\",\n",
    "    \"Init_Win_bytes_backward\",\n",
    "    \"min_seg_size_forward\",\n",
    "    \"Active.Mean\",\n",
    "    \"Active.Std\",\n",
    "    \"Idle.Mean\",\n",
    "    \"Idle.Std\",\n",
    "    \"ProtocolName.FreqEnc\",\n",
    "    \"Protocol:Unknown\",\n",
    "    \"Protocol.TCP\",\n",
    "    \"Protocol.UDP\",\n",
    "    \"Source.IP.Value\",\n",
    "    \"Source.Port.Value\",\n",
    "    \"Destination.IP.Value\",\n",
    "    \"Destination.Port.Value\"\n",
    "]"
   ]
  },
  {
   "cell_type": "code",
   "execution_count": 188,
   "metadata": {},
   "outputs": [
    {
     "name": "stdout",
     "output_type": "stream",
     "text": [
      "47\n",
      "48\n",
      "68\n",
      "47\n"
     ]
    }
   ],
   "source": [
    "print(len(list(set(df.columns) & set(final_set_of_columns))))\n",
    "print(len(final_set_of_columns))\n",
    "print(len(df.columns))\n",
    "print(len(set(df.columns).intersection(set(final_set_of_columns))))\n",
    "\n",
    "columns_to_drop = []\n",
    "for column in df.columns:\n",
    "    if column not in final_set_of_columns:\n",
    "        columns_to_drop.append(column)"
   ]
  },
  {
   "cell_type": "code",
   "execution_count": 189,
   "metadata": {},
   "outputs": [
    {
     "data": {
      "text/plain": [
       "['Bwd.Packet.Length.Max',\n",
       " 'Bwd.Packet.Length.Mean',\n",
       " 'Bwd.Packet.Length.Std',\n",
       " 'Flow.Packets.s',\n",
       " 'Flow.IAT.Max',\n",
       " 'Fwd.IAT.Total',\n",
       " 'Bwd.IAT.Total',\n",
       " 'Bwd.IAT.Max',\n",
       " 'Fwd.Header.Length',\n",
       " 'Bwd.Header.Length',\n",
       " 'Packet.Length.Variance',\n",
       " 'RST.Flag.Count',\n",
       " 'PSH.Flag.Count',\n",
       " 'Average.Packet.Size',\n",
       " 'Avg.Fwd.Segment.Size',\n",
       " 'Avg.Bwd.Segment.Size',\n",
       " 'Fwd.Header.Length.1',\n",
       " 'act_data_pkt_fwd',\n",
       " 'Active.Max',\n",
       " 'Idle.Max',\n",
       " 'L7Protocol']"
      ]
     },
     "execution_count": 189,
     "metadata": {},
     "output_type": "execute_result"
    }
   ],
   "source": [
    "columns_to_drop"
   ]
  },
  {
   "cell_type": "code",
   "execution_count": 190,
   "metadata": {},
   "outputs": [],
   "source": [
    "df.drop(columns=columns_to_drop, inplace=True)"
   ]
  },
  {
   "cell_type": "markdown",
   "metadata": {},
   "source": [
    "### 9. Quantization and dtype conversion"
   ]
  },
  {
   "cell_type": "code",
   "execution_count": 191,
   "metadata": {},
   "outputs": [
    {
     "data": {
      "text/plain": [
       "float64    43\n",
       "uint8       3\n",
       "int64       1\n",
       "dtype: int64"
      ]
     },
     "execution_count": 191,
     "metadata": {},
     "output_type": "execute_result"
    }
   ],
   "source": [
    "df.dtypes.value_counts()"
   ]
  },
  {
   "cell_type": "code",
   "execution_count": 196,
   "metadata": {},
   "outputs": [],
   "source": [
    "float64_columns = list(df.select_dtypes(include=['float64']).columns)\n",
    "for col in float64_columns:\n",
    "    df[col] = df[col].astype('float32')"
   ]
  },
  {
   "cell_type": "code",
   "execution_count": 197,
   "metadata": {},
   "outputs": [
    {
     "data": {
      "text/plain": [
       "float32    43\n",
       "uint8       3\n",
       "int64       1\n",
       "dtype: int64"
      ]
     },
     "execution_count": 197,
     "metadata": {},
     "output_type": "execute_result"
    }
   ],
   "source": [
    "df.dtypes.value_counts()"
   ]
  },
  {
   "cell_type": "code",
   "execution_count": 198,
   "metadata": {},
   "outputs": [
    {
     "data": {
      "text/html": [
       "<div>\n",
       "<style scoped>\n",
       "    .dataframe tbody tr th:only-of-type {\n",
       "        vertical-align: middle;\n",
       "    }\n",
       "\n",
       "    .dataframe tbody tr th {\n",
       "        vertical-align: top;\n",
       "    }\n",
       "\n",
       "    .dataframe thead th {\n",
       "        text-align: right;\n",
       "    }\n",
       "</style>\n",
       "<table border=\"1\" class=\"dataframe\">\n",
       "  <thead>\n",
       "    <tr style=\"text-align: right;\">\n",
       "      <th></th>\n",
       "      <th>Flow.Duration</th>\n",
       "      <th>Total.Fwd.Packets</th>\n",
       "      <th>Total.Backward.Packets</th>\n",
       "      <th>Total.Length.of.Fwd.Packets</th>\n",
       "      <th>Total.Length.of.Bwd.Packets</th>\n",
       "      <th>Fwd.Packet.Length.Max</th>\n",
       "      <th>Fwd.Packet.Length.Mean</th>\n",
       "      <th>Fwd.Packet.Length.Std</th>\n",
       "      <th>Flow.Bytes.s</th>\n",
       "      <th>Flow.IAT.Mean</th>\n",
       "      <th>...</th>\n",
       "      <th>Idle.Mean</th>\n",
       "      <th>Idle.Std</th>\n",
       "      <th>Protocol:Unknown</th>\n",
       "      <th>Protocol.TCP</th>\n",
       "      <th>Protocol.UDP</th>\n",
       "      <th>ProtocolName.FreqEnc</th>\n",
       "      <th>Source.IP.Value</th>\n",
       "      <th>Destination.IP.Value</th>\n",
       "      <th>Source.Port.Value</th>\n",
       "      <th>Destination.Port.Value</th>\n",
       "    </tr>\n",
       "  </thead>\n",
       "  <tbody>\n",
       "    <tr>\n",
       "      <th>0</th>\n",
       "      <td>0.000379</td>\n",
       "      <td>0.000046</td>\n",
       "      <td>0.000101</td>\n",
       "      <td>1.946835e-07</td>\n",
       "      <td>0.000082</td>\n",
       "      <td>0.000183</td>\n",
       "      <td>0.000374</td>\n",
       "      <td>0.000000</td>\n",
       "      <td>1.686826e-04</td>\n",
       "      <td>4.989890e-06</td>\n",
       "      <td>...</td>\n",
       "      <td>0.0</td>\n",
       "      <td>0.0</td>\n",
       "      <td>0</td>\n",
       "      <td>1</td>\n",
       "      <td>0</td>\n",
       "      <td>0.174213</td>\n",
       "      <td>0.5</td>\n",
       "      <td>1.0</td>\n",
       "      <td>0.5</td>\n",
       "      <td>1.0</td>\n",
       "    </tr>\n",
       "    <tr>\n",
       "      <th>1</th>\n",
       "      <td>0.000000</td>\n",
       "      <td>0.000002</td>\n",
       "      <td>0.000000</td>\n",
       "      <td>1.769850e-08</td>\n",
       "      <td>0.000000</td>\n",
       "      <td>0.000183</td>\n",
       "      <td>0.000374</td>\n",
       "      <td>0.000000</td>\n",
       "      <td>8.335649e-04</td>\n",
       "      <td>6.666667e-09</td>\n",
       "      <td>...</td>\n",
       "      <td>0.0</td>\n",
       "      <td>0.0</td>\n",
       "      <td>0</td>\n",
       "      <td>1</td>\n",
       "      <td>0</td>\n",
       "      <td>0.174213</td>\n",
       "      <td>1.0</td>\n",
       "      <td>0.5</td>\n",
       "      <td>1.0</td>\n",
       "      <td>0.5</td>\n",
       "    </tr>\n",
       "    <tr>\n",
       "      <th>2</th>\n",
       "      <td>0.000000</td>\n",
       "      <td>0.000004</td>\n",
       "      <td>0.000000</td>\n",
       "      <td>9.940657e-07</td>\n",
       "      <td>0.000000</td>\n",
       "      <td>0.010264</td>\n",
       "      <td>0.013989</td>\n",
       "      <td>0.031253</td>\n",
       "      <td>4.681856e-02</td>\n",
       "      <td>2.500000e-09</td>\n",
       "      <td>...</td>\n",
       "      <td>0.0</td>\n",
       "      <td>0.0</td>\n",
       "      <td>0</td>\n",
       "      <td>1</td>\n",
       "      <td>0</td>\n",
       "      <td>0.191132</td>\n",
       "      <td>0.5</td>\n",
       "      <td>1.0</td>\n",
       "      <td>1.0</td>\n",
       "      <td>0.5</td>\n",
       "    </tr>\n",
       "    <tr>\n",
       "      <th>3</th>\n",
       "      <td>0.000002</td>\n",
       "      <td>0.000000</td>\n",
       "      <td>0.000006</td>\n",
       "      <td>0.000000e+00</td>\n",
       "      <td>0.000000</td>\n",
       "      <td>0.000000</td>\n",
       "      <td>0.000000</td>\n",
       "      <td>0.000000</td>\n",
       "      <td>0.000000e+00</td>\n",
       "      <td>6.011111e-07</td>\n",
       "      <td>...</td>\n",
       "      <td>0.0</td>\n",
       "      <td>0.0</td>\n",
       "      <td>0</td>\n",
       "      <td>1</td>\n",
       "      <td>0</td>\n",
       "      <td>0.191132</td>\n",
       "      <td>0.5</td>\n",
       "      <td>1.0</td>\n",
       "      <td>1.0</td>\n",
       "      <td>0.5</td>\n",
       "    </tr>\n",
       "    <tr>\n",
       "      <th>4</th>\n",
       "      <td>0.000651</td>\n",
       "      <td>0.000009</td>\n",
       "      <td>0.000000</td>\n",
       "      <td>1.586965e-06</td>\n",
       "      <td>0.000000</td>\n",
       "      <td>0.016112</td>\n",
       "      <td>0.013400</td>\n",
       "      <td>0.046014</td>\n",
       "      <td>9.574087e-07</td>\n",
       "      <td>1.626400e-04</td>\n",
       "      <td>...</td>\n",
       "      <td>0.0</td>\n",
       "      <td>0.0</td>\n",
       "      <td>0</td>\n",
       "      <td>1</td>\n",
       "      <td>0</td>\n",
       "      <td>0.174213</td>\n",
       "      <td>1.0</td>\n",
       "      <td>1.0</td>\n",
       "      <td>0.5</td>\n",
       "      <td>1.0</td>\n",
       "    </tr>\n",
       "  </tbody>\n",
       "</table>\n",
       "<p>5 rows × 47 columns</p>\n",
       "</div>"
      ],
      "text/plain": [
       "   Flow.Duration  Total.Fwd.Packets  Total.Backward.Packets  \\\n",
       "0       0.000379           0.000046                0.000101   \n",
       "1       0.000000           0.000002                0.000000   \n",
       "2       0.000000           0.000004                0.000000   \n",
       "3       0.000002           0.000000                0.000006   \n",
       "4       0.000651           0.000009                0.000000   \n",
       "\n",
       "   Total.Length.of.Fwd.Packets  Total.Length.of.Bwd.Packets  \\\n",
       "0                 1.946835e-07                     0.000082   \n",
       "1                 1.769850e-08                     0.000000   \n",
       "2                 9.940657e-07                     0.000000   \n",
       "3                 0.000000e+00                     0.000000   \n",
       "4                 1.586965e-06                     0.000000   \n",
       "\n",
       "   Fwd.Packet.Length.Max  Fwd.Packet.Length.Mean  Fwd.Packet.Length.Std  \\\n",
       "0               0.000183                0.000374               0.000000   \n",
       "1               0.000183                0.000374               0.000000   \n",
       "2               0.010264                0.013989               0.031253   \n",
       "3               0.000000                0.000000               0.000000   \n",
       "4               0.016112                0.013400               0.046014   \n",
       "\n",
       "   Flow.Bytes.s  Flow.IAT.Mean  ...  Idle.Mean  Idle.Std  Protocol:Unknown  \\\n",
       "0  1.686826e-04   4.989890e-06  ...        0.0       0.0                 0   \n",
       "1  8.335649e-04   6.666667e-09  ...        0.0       0.0                 0   \n",
       "2  4.681856e-02   2.500000e-09  ...        0.0       0.0                 0   \n",
       "3  0.000000e+00   6.011111e-07  ...        0.0       0.0                 0   \n",
       "4  9.574087e-07   1.626400e-04  ...        0.0       0.0                 0   \n",
       "\n",
       "   Protocol.TCP  Protocol.UDP  ProtocolName.FreqEnc  Source.IP.Value  \\\n",
       "0             1             0              0.174213              0.5   \n",
       "1             1             0              0.174213              1.0   \n",
       "2             1             0              0.191132              0.5   \n",
       "3             1             0              0.191132              0.5   \n",
       "4             1             0              0.174213              1.0   \n",
       "\n",
       "   Destination.IP.Value  Source.Port.Value  Destination.Port.Value  \n",
       "0                   1.0                0.5                     1.0  \n",
       "1                   0.5                1.0                     0.5  \n",
       "2                   1.0                1.0                     0.5  \n",
       "3                   1.0                1.0                     0.5  \n",
       "4                   1.0                0.5                     1.0  \n",
       "\n",
       "[5 rows x 47 columns]"
      ]
     },
     "execution_count": 198,
     "metadata": {},
     "output_type": "execute_result"
    }
   ],
   "source": [
    "df.head()"
   ]
  },
  {
   "cell_type": "code",
   "execution_count": 199,
   "metadata": {},
   "outputs": [
    {
     "name": "stdout",
     "output_type": "stream",
     "text": [
      "<class 'pandas.core.frame.DataFrame'>\n",
      "RangeIndex: 3577296 entries, 0 to 3577295\n",
      "Data columns (total 47 columns):\n",
      " #   Column                       Dtype  \n",
      "---  ------                       -----  \n",
      " 0   Flow.Duration                float32\n",
      " 1   Total.Fwd.Packets            float32\n",
      " 2   Total.Backward.Packets       float32\n",
      " 3   Total.Length.of.Fwd.Packets  float32\n",
      " 4   Total.Length.of.Bwd.Packets  float32\n",
      " 5   Fwd.Packet.Length.Max        float32\n",
      " 6   Fwd.Packet.Length.Mean       float32\n",
      " 7   Fwd.Packet.Length.Std        float32\n",
      " 8   Flow.Bytes.s                 float32\n",
      " 9   Flow.IAT.Mean                float32\n",
      " 10  Flow.IAT.Std                 float32\n",
      " 11  Fwd.IAT.Mean                 float32\n",
      " 12  Fwd.IAT.Std                  float32\n",
      " 13  Fwd.IAT.Max                  float32\n",
      " 14  Bwd.IAT.Mean                 float32\n",
      " 15  Bwd.IAT.Std                  float32\n",
      " 16  Fwd.PSH.Flags                int64  \n",
      " 17  Fwd.Packets.s                float32\n",
      " 18  Bwd.Packets.s                float32\n",
      " 19  Max.Packet.Length            float32\n",
      " 20  Packet.Length.Mean           float32\n",
      " 21  Packet.Length.Std            float32\n",
      " 22  FIN.Flag.Count               float32\n",
      " 23  SYN.Flag.Count               float32\n",
      " 24  ACK.Flag.Count               float32\n",
      " 25  URG.Flag.Count               float32\n",
      " 26  ECE.Flag.Count               float32\n",
      " 27  Down.Up.Ratio                float32\n",
      " 28  Subflow.Fwd.Packets          float32\n",
      " 29  Subflow.Fwd.Bytes            float32\n",
      " 30  Subflow.Bwd.Packets          float32\n",
      " 31  Subflow.Bwd.Bytes            float32\n",
      " 32  Init_Win_bytes_forward       float32\n",
      " 33  Init_Win_bytes_backward      float32\n",
      " 34  min_seg_size_forward         float32\n",
      " 35  Active.Mean                  float32\n",
      " 36  Active.Std                   float32\n",
      " 37  Idle.Mean                    float32\n",
      " 38  Idle.Std                     float32\n",
      " 39  Protocol:Unknown             uint8  \n",
      " 40  Protocol.TCP                 uint8  \n",
      " 41  Protocol.UDP                 uint8  \n",
      " 42  ProtocolName.FreqEnc         float32\n",
      " 43  Source.IP.Value              float32\n",
      " 44  Destination.IP.Value         float32\n",
      " 45  Source.Port.Value            float32\n",
      " 46  Destination.Port.Value       float32\n",
      "dtypes: float32(43), int64(1), uint8(3)\n",
      "memory usage: 624.3 MB\n"
     ]
    }
   ],
   "source": [
    "df.info()"
   ]
  },
  {
   "cell_type": "code",
   "execution_count": 200,
   "metadata": {},
   "outputs": [],
   "source": [
    "df.to_csv('final_dataset.csv')"
   ]
  },
  {
   "cell_type": "code",
   "execution_count": 205,
   "metadata": {},
   "outputs": [
    {
     "name": "stdout",
     "output_type": "stream",
     "text": [
      "-rw-rw-r--  1 mateusz  staff   1.6G Jul 11 13:54 dataset.csv\n",
      "-rw-r--r--  1 mateusz  staff   1.3G Jul 12 12:32 final_dataset.csv\n"
     ]
    }
   ],
   "source": [
    "!ls -lh | grep .csv"
   ]
  },
  {
   "cell_type": "code",
   "execution_count": null,
   "metadata": {},
   "outputs": [],
   "source": []
  }
 ],
 "metadata": {
  "kernelspec": {
   "display_name": "Python 3.10.5 64-bit ('3.10.5')",
   "language": "python",
   "name": "python3"
  },
  "language_info": {
   "codemirror_mode": {
    "name": "ipython",
    "version": 3
   },
   "file_extension": ".py",
   "mimetype": "text/x-python",
   "name": "python",
   "nbconvert_exporter": "python",
   "pygments_lexer": "ipython3",
   "version": "3.10.5"
  },
  "orig_nbformat": 4,
  "vscode": {
   "interpreter": {
    "hash": "16ce62d89139d6b459a4fa414ee333754219537208081da9003b7fab6a6c11db"
   }
  }
 },
 "nbformat": 4,
 "nbformat_minor": 2
}
