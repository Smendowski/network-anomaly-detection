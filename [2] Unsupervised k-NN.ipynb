{
 "cells": [
  {
   "cell_type": "code",
   "execution_count": 11,
   "metadata": {},
   "outputs": [],
   "source": [
    "import csv\n",
    "import pandas as pd\n",
    "import numpy as np\n",
    "import time\n",
    "import matplotlib.pyplot as plt\n",
    "from sklearn.neighbors import NearestNeighbors"
   ]
  },
  {
   "cell_type": "code",
   "execution_count": 3,
   "metadata": {},
   "outputs": [
    {
     "data": {
      "text/plain": [
       "Index(['Unnamed: 0', 'Flow.Duration', 'Total.Fwd.Packets',\n",
       "       'Total.Backward.Packets', 'Total.Length.of.Fwd.Packets',\n",
       "       'Total.Length.of.Bwd.Packets', 'Fwd.Packet.Length.Max',\n",
       "       'Fwd.Packet.Length.Mean', 'Fwd.Packet.Length.Std', 'Flow.Bytes.s',\n",
       "       'Flow.IAT.Mean', 'Flow.IAT.Std', 'Fwd.IAT.Mean', 'Fwd.IAT.Std',\n",
       "       'Fwd.IAT.Max', 'Bwd.IAT.Mean', 'Bwd.IAT.Std', 'Fwd.PSH.Flags',\n",
       "       'Fwd.Packets.s', 'Bwd.Packets.s', 'Max.Packet.Length',\n",
       "       'Packet.Length.Mean', 'Packet.Length.Std', 'FIN.Flag.Count',\n",
       "       'SYN.Flag.Count', 'ACK.Flag.Count', 'URG.Flag.Count', 'ECE.Flag.Count',\n",
       "       'Down.Up.Ratio', 'Subflow.Fwd.Packets', 'Subflow.Fwd.Bytes',\n",
       "       'Subflow.Bwd.Packets', 'Subflow.Bwd.Bytes', 'Init_Win_bytes_forward',\n",
       "       'Init_Win_bytes_backward', 'min_seg_size_forward', 'Active.Mean',\n",
       "       'Active.Std', 'Idle.Mean', 'Idle.Std', 'Protocol:Unknown',\n",
       "       'Protocol.TCP', 'Protocol.UDP', 'ProtocolName.FreqEnc',\n",
       "       'Source.IP.Value', 'Destination.IP.Value', 'Source.Port.Value',\n",
       "       'Destination.Port.Value'],\n",
       "      dtype='object')"
      ]
     },
     "execution_count": 3,
     "metadata": {},
     "output_type": "execute_result"
    }
   ],
   "source": [
    "dataset = pd.read_csv('final_dataset.csv')\n",
    "df = dataset.copy()\n",
    "df.columns"
   ]
  },
  {
   "cell_type": "markdown",
   "metadata": {},
   "source": [
    "### 1. Remove dummy column"
   ]
  },
  {
   "cell_type": "code",
   "execution_count": 5,
   "metadata": {},
   "outputs": [],
   "source": [
    "df.drop(columns=['Unnamed: 0'], inplace=True)"
   ]
  },
  {
   "cell_type": "markdown",
   "metadata": {},
   "source": [
    "### 2. Resampling - create reference dataset and dataset for testing phase"
   ]
  },
  {
   "cell_type": "code",
   "execution_count": 10,
   "metadata": {},
   "outputs": [
    {
     "data": {
      "text/plain": [
       "(250000, 47)"
      ]
     },
     "execution_count": 10,
     "metadata": {},
     "output_type": "execute_result"
    }
   ],
   "source": [
    "REFERENCE_SIZE = 250_000\n",
    "df_reference = df.sample(n=REFERENCE_SIZE)\n",
    "df_reference.shape"
   ]
  },
  {
   "cell_type": "code",
   "execution_count": 12,
   "metadata": {},
   "outputs": [],
   "source": [
    "reference_dataset_indeces = []\n",
    "\n",
    "for index, _ in df_reference.iterrows():\n",
    "    reference_dataset_indeces.append(index)\n",
    "\n",
    "with open('[k-NN] reference indeces.csv', 'w', newline='') as f:\n",
    "    write = csv.writer(f)\n",
    "    write.writerow(['index'])\n",
    "    write.writerow([idx] for idx in sorted(reference_dataset_indeces))"
   ]
  },
  {
   "cell_type": "code",
   "execution_count": 13,
   "metadata": {},
   "outputs": [],
   "source": [
    "df_testing = df[~df.isin(df_reference)].dropna()"
   ]
  },
  {
   "cell_type": "code",
   "execution_count": 14,
   "metadata": {},
   "outputs": [
    {
     "name": "stdout",
     "output_type": "stream",
     "text": [
      "Entire dataset has 3577296 samples.\n",
      "Reference dataset has 250000 samples.\n",
      "Testing dataset has 3327296 samples.\n"
     ]
    }
   ],
   "source": [
    "print(f\"Entire dataset has {df.shape[0]} samples.\")\n",
    "print(f\"Reference dataset has {df_reference.shape[0]} samples.\")\n",
    "print(f\"Testing dataset has {df_testing.shape[0]} samples.\")"
   ]
  },
  {
   "cell_type": "markdown",
   "metadata": {},
   "source": [
    "### 3. k-NN"
   ]
  },
  {
   "cell_type": "code",
   "execution_count": 15,
   "metadata": {},
   "outputs": [],
   "source": [
    "K = 5\n",
    "neighbors = NearestNeighbors(n_neighbors=K)\n",
    "neighbors.fit(df_reference.values)\n",
    "distances, _ = neighbors.kneighbors(df_reference.values)"
   ]
  },
  {
   "cell_type": "code",
   "execution_count": 16,
   "metadata": {},
   "outputs": [],
   "source": [
    "distances_nei = distances.copy()"
   ]
  },
  {
   "cell_type": "code",
   "execution_count": 21,
   "metadata": {},
   "outputs": [
    {
     "data": {
      "text/plain": [
       "[<matplotlib.lines.Line2D at 0x304930dc0>]"
      ]
     },
     "execution_count": 21,
     "metadata": {},
     "output_type": "execute_result"
    },
    {
     "data": {
      "image/png": "[encoded data removed]",
      "text/plain": [
       "<Figure size 432x288 with 1 Axes>"
      ]
     },
     "metadata": {
      "needs_background": "light"
     },
     "output_type": "display_data"
    }
   ],
   "source": [
    "# Including self-sample distances - zeros\n",
    "plt.plot(distances_nei.mean(axis=1))\n",
    "plt.plot([0,250_000], [np.percentile(distances_nei, 99.5), np.percentile(distances_nei, 99.5)])"
   ]
  },
  {
   "cell_type": "code",
   "execution_count": 22,
   "metadata": {},
   "outputs": [
    {
     "data": {
      "text/plain": [
       "[<matplotlib.lines.Line2D at 0x30497f8b0>]"
      ]
     },
     "execution_count": 22,
     "metadata": {},
     "output_type": "execute_result"
    },
    {
     "data": {
      "image/png": "[encoded data removed]",
      "text/plain": [
       "<Figure size 432x288 with 1 Axes>"
      ]
     },
     "metadata": {
      "needs_background": "light"
     },
     "output_type": "display_data"
    }
   ],
   "source": [
    "distances_mean_non_zeros = distances_nei.mean(axis=1)[distances_nei.mean(axis=1) != 0]\n",
    "plt.plot(np.sort(distances_mean_non_zeros))\n",
    "plt.plot([0,250_000], [np.percentile(distances_nei, 99.5), np.percentile(distances_nei, 99.5)])"
   ]
  },
  {
   "cell_type": "markdown",
   "metadata": {},
   "source": [
    "Distribution of distances' value is that the vast majority is slightly close to zero. Ploting sorted data indicates that anomalous threshold can be taken as the 99.5 centile (empirical adjustment). Finally, each newly arrived sample in the network traffic with the distance higher than threshold, could be interpretted as anomalous sample."
   ]
  },
  {
   "cell_type": "markdown",
   "metadata": {},
   "source": [
    "### 4. Separation of anomalous samples from test dataset"
   ]
  },
  {
   "cell_type": "code",
   "execution_count": 23,
   "metadata": {},
   "outputs": [],
   "source": [
    "anomalous_distance_threshold = np.percentile(distances_nei, 99.5)"
   ]
  },
  {
   "cell_type": "code",
   "execution_count": 24,
   "metadata": {},
   "outputs": [],
   "source": [
    "anomalous_df = []\n",
    "\n",
    "start = time.time()\n",
    "\n",
    "for index, row in df_testing.iterrows():\n",
    "    distance, _ = neighbors.kneighbors([np.array(row.tolist())])\n",
    "    \n",
    "    if distance.mean() > anomalous_distance_threshold:\n",
    "        anomalous_df.append(index)\n",
    "\n",
    "stop = time.time() - start\n",
    "avg_time = stop/df_testing.shape[0]\n",
    "print(f\"Avg processing time of single sample {avg_time:.5f}\")"
   ]
  },
  {
   "cell_type": "markdown",
   "metadata": {},
   "source": [
    "Discovered 21310 samples to be suspected as anomalous. <br>\n",
    "Avg processing time of single sample 0.00251"
   ]
  },
  {
   "cell_type": "code",
   "execution_count": null,
   "metadata": {},
   "outputs": [],
   "source": [
    "with open('[k-NN] anonmalous indeces.csv', 'w', newline='') as f:\n",
    "    write = csv.writer(f) \n",
    "    write.writerow(['index'])\n",
    "    write.writerows([element] for element in anomalous_df)"
   ]
  },
  {
   "cell_type": "code",
   "execution_count": null,
   "metadata": {},
   "outputs": [],
   "source": [
    "anomalous_full_df = df.iloc[anomalous_df,:]\n",
    "anomalous_full_df.to_csv('anomalous_dataset.csv', index=False, header=True)"
   ]
  }
 ],
 "metadata": {
  "kernelspec": {
   "display_name": "Python 3.10.5 64-bit ('3.10.5')",
   "language": "python",
   "name": "python3"
  },
  "language_info": {
   "codemirror_mode": {
    "name": "ipython",
    "version": 3
   },
   "file_extension": ".py",
   "mimetype": "text/x-python",
   "name": "python",
   "nbconvert_exporter": "python",
   "pygments_lexer": "ipython3",
   "version": "3.10.5"
  },
  "orig_nbformat": 4,
  "vscode": {
   "interpreter": {
    "hash": "16ce62d89139d6b459a4fa414ee333754219537208081da9003b7fab6a6c11db"
   }
  }
 },
 "nbformat": 4,
 "nbformat_minor": 2
}
